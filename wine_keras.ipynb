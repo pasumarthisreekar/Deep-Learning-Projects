{
  "nbformat": 4,
  "nbformat_minor": 0,
  "metadata": {
    "colab": {
      "name": "Untitled2.ipynb",
      "provenance": [],
      "authorship_tag": "ABX9TyMrqW4tN1o2LjOzxqwGblxz",
      "include_colab_link": true
    },
    "kernelspec": {
      "name": "python3",
      "display_name": "Python 3"
    }
  },
  "cells": [
    {
      "cell_type": "markdown",
      "metadata": {
        "id": "view-in-github",
        "colab_type": "text"
      },
      "source": [
        "<a href=\"https://colab.research.google.com/github/sreekar-pasumarthi/Deep-Learning-Projects/blob/master/wine_keras.ipynb\" target=\"_parent\"><img src=\"https://colab.research.google.com/assets/colab-badge.svg\" alt=\"Open In Colab\"/></a>"
      ]
    },
    {
      "cell_type": "code",
      "metadata": {
        "id": "Ydv-gTK_usUi",
        "colab_type": "code",
        "colab": {}
      },
      "source": [
        "import pandas as pd"
      ],
      "execution_count": 0,
      "outputs": []
    },
    {
      "cell_type": "code",
      "metadata": {
        "id": "zNh4nVWSu3Vr",
        "colab_type": "code",
        "colab": {}
      },
      "source": [
        "import numpy as np\n",
        "import matplotlib.pyplot as plt\n",
        "import tensorflow as tf\n",
        "from tensorflow.keras.preprocessing.image import ImageDataGenerator\n",
        "from tensorflow.keras.optimizers import Adam\n",
        "from tensorflow.keras.utils import to_categorical, normalize\n",
        "from sklearn.model_selection import train_test_split\n",
        "from sklearn.metrics import confusion_matrix\n",
        "from sklearn.model_selection import StratifiedKFold\n",
        "import numpy\n",
        "from keras.wrappers.scikit_learn import KerasClassifier\n",
        "from keras.utils import np_utils\n",
        "from sklearn.model_selection import cross_val_score\n",
        "from sklearn.model_selection import KFold\n",
        "from sklearn.preprocessing import LabelEncoder\n",
        "from sklearn.pipeline import Pipeline\n",
        "from keras.models import Sequential\n",
        "from keras.layers import Dense"
      ],
      "execution_count": 0,
      "outputs": []
    },
    {
      "cell_type": "code",
      "metadata": {
        "id": "_b9Qd0lMvqm7",
        "colab_type": "code",
        "colab": {
          "base_uri": "https://localhost:8080/",
          "height": 52
        },
        "outputId": "03b1d0f4-0135-4b75-9570-44ffdce0fbc9"
      },
      "source": [
        "df_train=pd.read_csv('https://raw.githubusercontent.com/sreekar-pasumarthi/Deep-Learning-Projects/master/wine/wineQualityWhites.csv')\n",
        "print(f'The train set contain {df_train.shape[0]} examples')\n",
        "print(f'The train set contain {df_train.shape[1]} features')"
      ],
      "execution_count": 4,
      "outputs": [
        {
          "output_type": "stream",
          "text": [
            "The train set contain 4898 examples\n",
            "The train set contain 12 features\n"
          ],
          "name": "stdout"
        }
      ]
    },
    {
      "cell_type": "code",
      "metadata": {
        "id": "HKHnBFWsxRkv",
        "colab_type": "code",
        "colab": {}
      },
      "source": [
        "df_train.head()\n",
        "X_train = df_train.drop('quality', axis = 1)\n",
        "y_train = df_train['quality']"
      ],
      "execution_count": 0,
      "outputs": []
    },
    {
      "cell_type": "code",
      "metadata": {
        "id": "espI-YV-xdR1",
        "colab_type": "code",
        "colab": {
          "base_uri": "https://localhost:8080/",
          "height": 295
        },
        "outputId": "64dee1df-8228-4919-c62f-b2b3a7e8b442"
      },
      "source": [
        "whitewine_classes= y_train.unique()\n",
        "values = y_train.value_counts()#occurrence of each class\n",
        "\n",
        "plt.bar(whitewine_classes, values)\n",
        "plt.title('Train set')\n",
        "plt.xlabel('Wine Classes')\n",
        "plt.ylabel('Class count')\n",
        "plt.show() "
      ],
      "execution_count": 6,
      "outputs": [
        {
          "output_type": "display_data",
          "data": {
            "image/png": "[encoded data removed]",
            "text/plain": [
              "<Figure size 432x288 with 1 Axes>"
            ]
          },
          "metadata": {
            "tags": [],
            "needs_background": "light"
          }
        }
      ]
    },
    {
      "cell_type": "code",
      "metadata": {
        "id": "d1x5NILByaQP",
        "colab_type": "code",
        "colab": {}
      },
      "source": [
        "X_train.describe()\n",
        "#we need to normalise data"
      ],
      "execution_count": 0,
      "outputs": []
    },
    {
      "cell_type": "code",
      "metadata": {
        "id": "buzsgbN61PG2",
        "colab_type": "code",
        "colab": {
          "base_uri": "https://localhost:8080/",
          "height": 69
        },
        "outputId": "df83ccfd-6d85-4711-d4e4-e4023ce0daec"
      },
      "source": [
        "X_train = df_train.values #to convert it to array and then normalise\n",
        "X_train = normalize(X_train)#rescaling the data between 0 and 1\n",
        "print(X_train[0])"
      ],
      "execution_count": 8,
      "outputs": [
        {
          "output_type": "stream",
          "text": [
            "[3.94240529e-02 1.52064204e-03 2.02752272e-03 1.16582557e-01\n",
            " 2.53440340e-04 2.53440340e-01 9.57441285e-01 5.63763957e-03\n",
            " 1.68960227e-02 2.53440340e-03 4.95616665e-02 3.37920454e-02]\n"
          ],
          "name": "stdout"
        }
      ]
    },
    {
      "cell_type": "code",
      "metadata": {
        "id": "H3blr1ZG1bVf",
        "colab_type": "code",
        "colab": {
          "base_uri": "https://localhost:8080/",
          "height": 35
        },
        "outputId": "0dcbb6e5-27e5-4d9c-cf2a-7e15b9ae0de6"
      },
      "source": [
        "y_train = to_categorical(y_train)#to convert y_train into to 'one hot vector'\n",
        "y_train.shape"
      ],
      "execution_count": 9,
      "outputs": [
        {
          "output_type": "execute_result",
          "data": {
            "text/plain": [
              "(4898, 10)"
            ]
          },
          "metadata": {
            "tags": []
          },
          "execution_count": 9
        }
      ]
    },
    {
      "cell_type": "code",
      "metadata": {
        "id": "v01hZjY31k1Z",
        "colab_type": "code",
        "colab": {}
      },
      "source": [
        "X_train, X_val, y_train, y_val = train_test_split(X_train, y_train, test_size = 0.2)#Split arrays or matrices into random train and test subsets\n",
        "#test_size represents the proportion of the dataset to include in the test split.->20% to test split from training data\n",
        "X_val, X_test, y_val, y_test = train_test_split(X_val, y_val, test_size = 0.5)\n"
      ],
      "execution_count": 0,
      "outputs": []
    },
    {
      "cell_type": "code",
      "metadata": {
        "id": "VzL1kI0K6x4i",
        "colab_type": "code",
        "colab": {
          "base_uri": "https://localhost:8080/",
          "height": 225
        },
        "outputId": "11e41f1f-2ac7-421d-f104-d10e271bdb27"
      },
      "source": [
        "model = tf.keras.models.Sequential([\n",
        " tf.keras.layers.Dense(150, input_shape=(12,), activation='relu'),\n",
        " tf.keras.layers.Dense(10, activation='softmax')\n",
        "])\n",
        "model.compile(loss='categorical_crossentropy',optimizer='adam',metrics=['acc'])\n",
        "model.summary()"
      ],
      "execution_count": 86,
      "outputs": [
        {
          "output_type": "stream",
          "text": [
            "Model: \"sequential_11\"\n",
            "_________________________________________________________________\n",
            "Layer (type)                 Output Shape              Param #   \n",
            "=================================================================\n",
            "dense_26 (Dense)             (None, 150)               1950      \n",
            "_________________________________________________________________\n",
            "dense_27 (Dense)             (None, 10)                1510      \n",
            "=================================================================\n",
            "Total params: 3,460\n",
            "Trainable params: 3,460\n",
            "Non-trainable params: 0\n",
            "_________________________________________________________________\n"
          ],
          "name": "stdout"
        }
      ]
    },
    {
      "cell_type": "code",
      "metadata": {
        "id": "IaWXCgPxAXZr",
        "colab_type": "code",
        "colab": {
          "base_uri": "https://localhost:8080/",
          "height": 87
        },
        "outputId": "5fb3bca8-99bd-443a-85b8-c10d01faff5e"
      },
      "source": [
        "history = model.fit(X_train, y_train,epochs=200,validation_data=(X_val, y_val),verbose=0)\n",
        "_, accuracy = model.evaluate(X_train, y_train)\n",
        "print('Accuracy: %.2f' % (accuracy*100))\n",
        "_, accuracy = model.evaluate(X_val, y_val)\n",
        "print('Accuracy: %.2f' % (accuracy*100))"
      ],
      "execution_count": 87,
      "outputs": [
        {
          "output_type": "stream",
          "text": [
            "98/98 [==============================] - 0s 1ms/step - loss: 0.2875 - acc: 0.9378\n",
            "Accuracy: 93.78\n",
            "13/13 [==============================] - 0s 1ms/step - loss: 0.2821 - acc: 0.9490\n",
            "Accuracy: 94.90\n"
          ],
          "name": "stdout"
        }
      ]
    },
    {
      "cell_type": "code",
      "metadata": {
        "id": "WnR4MbaTDE5R",
        "colab_type": "code",
        "colab": {
          "base_uri": "https://localhost:8080/",
          "height": 295
        },
        "outputId": "506bc8eb-99a9-45c2-ea55-ee47fe79f121"
      },
      "source": [
        "plt.plot(history.history['acc'])\n",
        "plt.plot(history.history['val_acc'])#val_acc :accuracy on valid data\n",
        "plt.title('model accuracy')\n",
        "plt.ylabel('accuracy')\n",
        "plt.xlabel('epoch')\n",
        "plt.legend(['train', 'test'], loc='upper left')\n",
        "plt.show()"
      ],
      "execution_count": 88,
      "outputs": [
        {
          "output_type": "display_data",
          "data": {
            "image/png": "[encoded data removed]",
            "text/plain": [
              "<Figure size 432x288 with 1 Axes>"
            ]
          },
          "metadata": {
            "tags": [],
            "needs_background": "light"
          }
        }
      ]
    },
    {
      "cell_type": "code",
      "metadata": {
        "id": "bGWR1CoKEPoK",
        "colab_type": "code",
        "colab": {
          "base_uri": "https://localhost:8080/",
          "height": 52
        },
        "outputId": "9dcc9d21-19e2-4843-f53d-c99ff6c496bc"
      },
      "source": [
        "_, accuracy = model.evaluate(X_test, y_test)\n",
        "print('Accuracy: %.2f' % (accuracy*100))"
      ],
      "execution_count": 89,
      "outputs": [
        {
          "output_type": "stream",
          "text": [
            "13/13 [==============================] - 0s 2ms/step - loss: 0.3023 - acc: 0.9490\n",
            "Accuracy: 94.90\n"
          ],
          "name": "stdout"
        }
      ]
    }
  ]
}