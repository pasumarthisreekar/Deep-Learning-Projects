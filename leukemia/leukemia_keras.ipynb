{
  "nbformat": 4,
  "nbformat_minor": 0,
  "metadata": {
    "colab": {
      "name": "Untitled8.ipynb",
      "provenance": [],
      "authorship_tag": "ABX9TyOlmR4DITJ3LWpTBjYukOrO",
      "include_colab_link": true
    },
    "kernelspec": {
      "name": "python3",
      "display_name": "Python 3"
    }
  },
  "cells": [
    {
      "cell_type": "markdown",
      "metadata": {
        "id": "view-in-github",
        "colab_type": "text"
      },
      "source": [
        "<a href=\"https://colab.research.google.com/github/sreekar-pasumarthi/Deep-Learning-Projects/blob/master/leukemia/leukemia_keras.ipynb\" target=\"_parent\"><img src=\"https://colab.research.google.com/assets/colab-badge.svg\" alt=\"Open In Colab\"/></a>"
      ]
    },
    {
      "cell_type": "code",
      "metadata": {
        "id": "SlfwvP3VIvJB",
        "colab_type": "code",
        "colab": {}
      },
      "source": [
        "import pandas as pd\n",
        "import numpy as np\n",
        "import matplotlib.pyplot as plt\n",
        "import tensorflow as tf\n",
        "from tensorflow.keras.preprocessing.image import ImageDataGenerator\n",
        "from tensorflow.keras.optimizers import Adam\n",
        "from tensorflow.keras.utils import to_categorical, normalize\n",
        "from keras.utils import np_utils\n",
        "from sklearn.preprocessing import LabelEncoder\n",
        "from sklearn.pipeline import Pipeline\n",
        "from keras.models import Sequential\n",
        "from keras.layers import Dense\n",
        "from keras.utils import np_utils\n",
        "from sklearn.preprocessing import LabelEncoder\n",
        "from sklearn.pipeline import Pipeline"
      ],
      "execution_count": 0,
      "outputs": []
    },
    {
      "cell_type": "code",
      "metadata": {
        "id": "pnRzJt4sI9Yj",
        "colab_type": "code",
        "colab": {}
      },
      "source": [
        "df_train=pd.read_csv('https://raw.githubusercontent.com/sreekar-pasumarthi/Deep-Learning-Projects/master/leukemia/Leukemia2.csv')\n",
        "df_test=pd.read_csv('https://raw.githubusercontent.com/sreekar-pasumarthi/Deep-Learning-Projects/master/leukemia/Leukemia1.csv')\n",
        "print(f'The train set contain {df_train.shape[0]} examples')\n",
        "print(f'The train set contain {df_train.shape[1]} features')\n",
        "print(f'The test set contain {df_test.shape[0]} examples')\n",
        "print(f'The test set contain {df_test.shape[1]} features')\n",
        "df_train.head()\n",
        "df_test.head()"
      ],
      "execution_count": 0,
      "outputs": []
    },
    {
      "cell_type": "code",
      "metadata": {
        "id": "7OjdbfudLkhw",
        "colab_type": "code",
        "colab": {}
      },
      "source": [
        "X_train=df_train.iloc[:,0:7129].values\n",
        "y_train=df_train.iloc[:,7129].values\n",
        "X_test=df_test.iloc[:,0:7129].values\n",
        "y_test=df_test.iloc[:,7129].values"
      ],
      "execution_count": 0,
      "outputs": []
    },
    {
      "cell_type": "code",
      "metadata": {
        "id": "JUz9eWNopaEd",
        "colab_type": "code",
        "colab": {}
      },
      "source": [
        "encoder = LabelEncoder()\n",
        "encoder.fit(y_train)\n",
        "Y_train = encoder.transform(y_train)\n",
        "encoder.fit(y_test)\n",
        "Y_test = encoder.transform(y_test)"
      ],
      "execution_count": 0,
      "outputs": []
    },
    {
      "cell_type": "code",
      "metadata": {
        "id": "h_U2TgzaM66h",
        "colab_type": "code",
        "colab": {}
      },
      "source": [
        " model = Sequential()\n",
        " model.add(Dense(10,input_shape=(7129,),activation='relu'))\n",
        " model.add(Dense(1,activation='sigmoid'))\n",
        " model.compile(loss='binary_crossentropy', optimizer='adam', metrics=['accuracy'])\n",
        " model.summary()"
      ],
      "execution_count": 0,
      "outputs": []
    },
    {
      "cell_type": "code",
      "metadata": {
        "id": "2g-6ytkqRMsv",
        "colab_type": "code",
        "colab": {}
      },
      "source": [
        "#training the model\n",
        "model.fit(X_train, Y_train, epochs=200, batch_size=3)\n",
        "_, accuracy = model.evaluate(X_train, Y_train)\n",
        "print('Accuracy: %.2f' % (accuracy*100))"
      ],
      "execution_count": 0,
      "outputs": []
    },
    {
      "cell_type": "code",
      "metadata": {
        "id": "fSZwmHYMcBDr",
        "colab_type": "code",
        "colab": {}
      },
      "source": [
        "_, accuracy_test = model.evaluate(X_test, Y_test)\n",
        "print('Accuracy:  %.2f' % ((accuracy_test)*100))"
      ],
      "execution_count": 0,
      "outputs": []
    }
  ]
}