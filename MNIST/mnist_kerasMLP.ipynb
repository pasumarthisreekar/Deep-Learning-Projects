{
  "nbformat": 4,
  "nbformat_minor": 0,
  "metadata": {
    "colab": {
      "name": "Untitled15.ipynb",
      "provenance": [],
      "authorship_tag": "ABX9TyPChZ41NcGeyeTvOZYMfWkD",
      "include_colab_link": true
    },
    "kernelspec": {
      "name": "python3",
      "display_name": "Python 3"
    }
  },
  "cells": [
    {
      "cell_type": "markdown",
      "metadata": {
        "id": "view-in-github",
        "colab_type": "text"
      },
      "source": [
        "<a href=\"https://colab.research.google.com/github/sreekar-pasumarthi/Deep-Learning-Projects/blob/master/mnist_kerasMLP.ipynb\" target=\"_parent\"><img src=\"https://colab.research.google.com/assets/colab-badge.svg\" alt=\"Open In Colab\"/></a>"
      ]
    },
    {
      "cell_type": "code",
      "metadata": {
        "id": "9CUZs-gGoNT9",
        "colab_type": "code",
        "colab": {}
      },
      "source": [
        "import numpy as np\n",
        "import mnist\n",
        "from keras.models import Sequential\n",
        "from keras.layers import Dense\n",
        "from keras.utils import to_categorical"
      ],
      "execution_count": 0,
      "outputs": []
    },
    {
      "cell_type": "code",
      "metadata": {
        "id": "u06ZhTpxqZI8",
        "colab_type": "code",
        "outputId": "fe92321b-1258-4798-9140-b34f04d2e40a",
        "colab": {
          "base_uri": "https://localhost:8080/",
          "height": 52
        }
      },
      "source": [
        "train_images = mnist.train_images()\n",
        "train_labels = mnist.train_labels()\n",
        "test_images = mnist.test_images()\n",
        "test_labels = mnist.test_labels()\n",
        "\n",
        "print(train_images.shape) # (60000, 28, 28)\n",
        "print(train_labels.shape) # (60000,)"
      ],
      "execution_count": 0,
      "outputs": [
        {
          "output_type": "stream",
          "text": [
            "(60000, 28, 28)\n",
            "(60000,)\n"
          ],
          "name": "stdout"
        }
      ]
    },
    {
      "cell_type": "code",
      "metadata": {
        "id": "I0DHHFvhqZOi",
        "colab_type": "code",
        "outputId": "caabcd27-ab58-4513-a147-5fbbcaab454b",
        "colab": {
          "base_uri": "https://localhost:8080/",
          "height": 52
        }
      },
      "source": [
        "# Normalize the images.\n",
        "train_images = (train_images / 255) - 0.5\n",
        "test_images = (test_images / 255) - 0.5\n",
        "# Flatten the images.\n",
        "train_images = train_images.reshape((-1, 784))\n",
        "test_images = test_images.reshape((-1, 784))\n",
        "print(train_images.shape) # (60000, 784)\n",
        "print(test_images.shape)  # (10000, 784)"
      ],
      "execution_count": 0,
      "outputs": [
        {
          "output_type": "stream",
          "text": [
            "(60000, 784)\n",
            "(10000, 784)\n"
          ],
          "name": "stdout"
        }
      ]
    },
    {
      "cell_type": "code",
      "metadata": {
        "id": "4r7XMeYbr7M6",
        "colab_type": "code",
        "colab": {}
      },
      "source": [
        "model = Sequential([\n",
        "  Dense(10, activation='relu', input_shape=(784,)),\n",
        "  Dense(10, activation='softmax'),\n",
        "])"
      ],
      "execution_count": 0,
      "outputs": []
    },
    {
      "cell_type": "code",
      "metadata": {
        "id": "4PzD7ZwGsLl_",
        "colab_type": "code",
        "outputId": "15abcd09-3524-4532-d36f-cd475da545d6",
        "colab": {
          "base_uri": "https://localhost:8080/",
          "height": 728
        }
      },
      "source": [
        "model.compile(\n",
        "  optimizer='adam',\n",
        "  loss='categorical_crossentropy',\n",
        "  metrics=['accuracy'],\n",
        ")\n",
        "model.fit(\n",
        "  train_images, # training data\n",
        "  to_categorical(train_labels), # training targets\n",
        "  epochs=20,\n",
        "  batch_size=32,\n",
        ")"
      ],
      "execution_count": 0,
      "outputs": [
        {
          "output_type": "stream",
          "text": [
            "Epoch 1/20\n",
            "60000/60000 [==============================] - 2s 39us/step - loss: 0.2584 - accuracy: 0.9252\n",
            "Epoch 2/20\n",
            "60000/60000 [==============================] - 2s 38us/step - loss: 0.2584 - accuracy: 0.9257\n",
            "Epoch 3/20\n",
            "60000/60000 [==============================] - 2s 37us/step - loss: 0.2565 - accuracy: 0.9261\n",
            "Epoch 4/20\n",
            "60000/60000 [==============================] - 2s 39us/step - loss: 0.2571 - accuracy: 0.9259\n",
            "Epoch 5/20\n",
            "60000/60000 [==============================] - 2s 39us/step - loss: 0.2561 - accuracy: 0.9260\n",
            "Epoch 6/20\n",
            "60000/60000 [==============================] - 2s 38us/step - loss: 0.2549 - accuracy: 0.9266\n",
            "Epoch 7/20\n",
            "60000/60000 [==============================] - 2s 38us/step - loss: 0.2538 - accuracy: 0.9278\n",
            "Epoch 8/20\n",
            "60000/60000 [==============================] - 2s 38us/step - loss: 0.2521 - accuracy: 0.9278\n",
            "Epoch 9/20\n",
            "60000/60000 [==============================] - 2s 39us/step - loss: 0.2522 - accuracy: 0.9283\n",
            "Epoch 10/20\n",
            "60000/60000 [==============================] - 2s 40us/step - loss: 0.2522 - accuracy: 0.9275\n",
            "Epoch 11/20\n",
            "60000/60000 [==============================] - 2s 39us/step - loss: 0.2504 - accuracy: 0.9284\n",
            "Epoch 12/20\n",
            "60000/60000 [==============================] - 2s 39us/step - loss: 0.2508 - accuracy: 0.9278\n",
            "Epoch 13/20\n",
            "60000/60000 [==============================] - 2s 40us/step - loss: 0.2512 - accuracy: 0.9273\n",
            "Epoch 14/20\n",
            "60000/60000 [==============================] - 2s 40us/step - loss: 0.2496 - accuracy: 0.9283\n",
            "Epoch 15/20\n",
            "60000/60000 [==============================] - 2s 40us/step - loss: 0.2484 - accuracy: 0.9289\n",
            "Epoch 16/20\n",
            "60000/60000 [==============================] - 2s 40us/step - loss: 0.2481 - accuracy: 0.9290\n",
            "Epoch 17/20\n",
            "60000/60000 [==============================] - 2s 39us/step - loss: 0.2474 - accuracy: 0.9286\n",
            "Epoch 18/20\n",
            "60000/60000 [==============================] - 2s 39us/step - loss: 0.2475 - accuracy: 0.9286\n",
            "Epoch 19/20\n",
            "60000/60000 [==============================] - 2s 39us/step - loss: 0.2469 - accuracy: 0.9285\n",
            "Epoch 20/20\n",
            "60000/60000 [==============================] - 2s 38us/step - loss: 0.2460 - accuracy: 0.9289\n"
          ],
          "name": "stdout"
        },
        {
          "output_type": "execute_result",
          "data": {
            "text/plain": [
              "<keras.callbacks.callbacks.History at 0x7fc8ac406f60>"
            ]
          },
          "metadata": {
            "tags": []
          },
          "execution_count": 19
        }
      ]
    },
    {
      "cell_type": "code",
      "metadata": {
        "id": "NYPQlId0smng",
        "colab_type": "code",
        "outputId": "f544ed79-4447-4607-df05-1c8a22c315f4",
        "colab": {
          "base_uri": "https://localhost:8080/",
          "height": 52
        }
      },
      "source": [
        "model.evaluate(\n",
        "  test_images,\n",
        "  to_categorical(test_labels)\n",
        ")"
      ],
      "execution_count": 0,
      "outputs": [
        {
          "output_type": "stream",
          "text": [
            "10000/10000 [==============================] - 0s 22us/step\n"
          ],
          "name": "stdout"
        },
        {
          "output_type": "execute_result",
          "data": {
            "text/plain": [
              "[0.27800178205668924, 0.920799970626831]"
            ]
          },
          "metadata": {
            "tags": []
          },
          "execution_count": 18
        }
      ]
    }
  ]
}
